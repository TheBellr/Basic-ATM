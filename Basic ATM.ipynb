{
 "cells": [
  {
   "cell_type": "markdown",
   "id": "59992147-9895-43c8-bdd3-0f64108d1db7",
   "metadata": {},
   "source": [
    "# Basic ATM\n",
    "Create a basic atm using 'nested if' statements. user should be able to check their balance, deposit money and withdraw money"
   ]
  },
  {
   "cell_type": "code",
   "execution_count": null,
   "id": "ea5aec1f-2b4a-4dfa-9ced-350946c30282",
   "metadata": {},
   "outputs": [],
   "source": [
    "user_account = 10000\n",
    "print ('Wecome to NITHUB bank')\n",
    "print( '''\n",
    "1. Check balance\n",
    "2. Deposit money\n",
    "3. Make withdrawal\n",
    "''')\n",
    "choice = input(\"Kindly enter a number from the options above: \")\n",
    "\n",
    "if choice == '1':\n",
    "    print ('Your account balance is '+ str(user_account) + ' Naira.')\n",
    "elif choice == '2':\n",
    "    dep = float(input(\"Enter the amount you would like to deposit: \"))\n",
    "    new_bal = user_account + dep\n",
    "    print ('Deposit successful')\n",
    "    print ('Your account balance is now '+ str(new_bal) + ' Naira.')\n",
    "elif choice == '3':\n",
    "    widr = float(input(\"Enter the amount you would like to withraw: \"))\n",
    "    if widr > user_account:\n",
    "        print ('Insufficient funds.')\n",
    "    else:\n",
    "        low_bal = user_account - widr\n",
    "        print ('Withdrawal successful')\n",
    "        print ('Your account balance is now '+ str(low_bal) + ' Naira.')\n",
    "else:\n",
    "            print(\"Invalid choice. Please enter a valid option.\")"
   ]
  }
 ],
 "metadata": {
  "kernelspec": {
   "display_name": "Python 3 (ipykernel)",
   "language": "python",
   "name": "python3"
  },
  "language_info": {
   "codemirror_mode": {
    "name": "ipython",
    "version": 3
   },
   "file_extension": ".py",
   "mimetype": "text/x-python",
   "name": "python",
   "nbconvert_exporter": "python",
   "pygments_lexer": "ipython3",
   "version": "3.11.5"
  }
 },
 "nbformat": 4,
 "nbformat_minor": 5
}
